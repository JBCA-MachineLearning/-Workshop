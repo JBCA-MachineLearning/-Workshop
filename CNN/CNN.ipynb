{
 "cells": [
  {
   "cell_type": "markdown",
   "metadata": {
    "slideshow": {
     "slide_type": "slide"
    }
   },
   "source": [
    "# Convolutional Neural Networks\n",
    "\n",
    "In this section we will build a CNN classify images of cats and dogs. \n",
    "\n",
    "The CNN will have 3 convolutional layers. Each convolutional layer will be follwed by a relu layer and a pooling layer. \n",
    "\n",
    "The first two CNN layers will have 32 filters and the last will 64. Each filter has a size of 3X3. \n",
    "\n",
    "We will add 1 fully connected layer with 64 nodes and a dropout layer with 50% dropout. "
   ]
  },
  {
   "cell_type": "code",
   "execution_count": 11,
   "metadata": {
    "slideshow": {
     "slide_type": "slide"
    }
   },
   "outputs": [],
   "source": [
    "from keras.models import Sequential\n",
    "from keras.layers import Conv2D, MaxPooling2D\n",
    "from keras.layers import Activation, Dropout, Flatten, Dense\n",
    "\n",
    "from keras import backend as K\n",
    "\n",
    "# dimensions of our images.\n",
    "img_width, img_height = 150, 150\n",
    "input_shape = (img_width, img_height,3)\n",
    "\n",
    "\n",
    "model = Sequential()\n",
    "model.add(Conv2D(32, (3, 3), input_shape=input_shape))\n",
    "model.add(Activation('relu'))\n",
    "model.add(MaxPooling2D(pool_size=(2, 2)))\n",
    "\n",
    "model.add(Conv2D(32, (3, 3)))\n",
    "model.add(Activation('relu'))\n",
    "model.add(MaxPooling2D(pool_size=(2, 2)))\n",
    "\n",
    "model.add(Conv2D(64, (3, 3)))\n",
    "model.add(Activation('relu'))\n",
    "model.add(MaxPooling2D(pool_size=(2, 2)))\n",
    "\n",
    "model.add(Flatten())\n",
    "model.add(Dense(64))\n",
    "model.add(Activation('relu'))\n",
    "model.add(Dropout(0.5))\n",
    "model.add(Dense(1))\n",
    "model.add(Activation('sigmoid'))\n",
    "\n",
    "model.compile(loss='binary_crossentropy', optimizer='rmsprop', metrics=['accuracy'])"
   ]
  },
  {
   "cell_type": "markdown",
   "metadata": {
    "slideshow": {
     "slide_type": "slide"
    }
   },
   "source": [
    "## Data Preparation\n",
    "\n",
    "In this section we will prepare data for training the model defined in the previous section. \n",
    "\n",
    "### Data augmentation\n",
    "\n",
    "There are a number of ways to augmentate data, for example rotating or flipping the images. The code below demonstrates how to augment data with Keras."
   ]
  },
  {
   "cell_type": "code",
   "execution_count": 68,
   "metadata": {
    "slideshow": {
     "slide_type": "slide"
    }
   },
   "outputs": [],
   "source": [
    "from keras.preprocessing.image import ImageDataGenerator, array_to_img, img_to_array, load_img\n",
    "\n",
    "datagen = ImageDataGenerator(\n",
    "        rotation_range=40,\n",
    "        width_shift_range=0.2,\n",
    "        height_shift_range=0.2,\n",
    "        shear_range=0.2,\n",
    "        zoom_range=0.2,\n",
    "        horizontal_flip=True,\n",
    "        fill_mode='nearest')\n",
    "\n",
    "img = load_img('data/train/cats/cat020.jpg')  # this is a PIL image\n",
    "x = img_to_array(img)  # this is a Numpy array with shape (3, 150, 150)\n",
    "x = x.reshape((1,) + x.shape)  # this is a Numpy array with shape (1, 3, 150, 150)\n",
    "\n",
    "# the .flow() command below generates batches of randomly transformed images\n",
    "# and saves the results to the `preview/` directory\n",
    "i = 0\n",
    "for batch in datagen.flow(x, batch_size=1,\n",
    "                          save_to_dir='preview', save_prefix='cat', save_format='jpeg'):\n",
    "    i += 1\n",
    "    if i > 4:\n",
    "        break  # otherwise the generator would loop indefinitely"
   ]
  },
  {
   "cell_type": "markdown",
   "metadata": {
    "slideshow": {
     "slide_type": "skip"
    }
   },
   "source": [
    "\n",
    "\n",
    "In the following code block we will define the augmentation we wish to use for training our CNN\n",
    "\n",
    "\n"
   ]
  },
  {
   "cell_type": "code",
   "execution_count": 69,
   "metadata": {
    "slideshow": {
     "slide_type": "slide"
    }
   },
   "outputs": [
    {
     "name": "stdout",
     "output_type": "stream",
     "text": [
      "Found 2000 images belonging to 2 classes.\n",
      "Found 800 images belonging to 2 classes.\n"
     ]
    }
   ],
   "source": [
    "from keras.preprocessing.image import ImageDataGenerator, array_to_img, img_to_array, load_img\n",
    "\n",
    "train_data_dir = 'data/train'\n",
    "validation_data_dir = 'data/validation'\n",
    "nb_train_samples = 2000\n",
    "nb_validation_samples = 800\n",
    "batch_size = 16\n",
    "\n",
    "# this is the augmentation configuration we will use for training\n",
    "train_datagen = ImageDataGenerator(\n",
    "    rescale=1. / 255,\n",
    "    shear_range=0.2,\n",
    "    zoom_range=0.2,\n",
    "    horizontal_flip=True)\n",
    "\n",
    "# this is the augmentation configuration we will use for testing:\n",
    "# only rescaling\n",
    "validation_datagen = ImageDataGenerator(rescale=1. / 255)\n",
    "\n"
   ]
  },
  {
   "cell_type": "code",
   "execution_count": null,
   "metadata": {
    "slideshow": {
     "slide_type": "slide"
    }
   },
   "outputs": [],
   "source": [
    "train_generator = train_datagen.flow_from_directory(\n",
    "    train_data_dir,\n",
    "    target_size=(img_width, img_height),\n",
    "    batch_size=batch_size,\n",
    "    class_mode='binary')\n",
    "\n",
    "validation_generator = validation_datagen.flow_from_directory(\n",
    "    validation_data_dir,\n",
    "    target_size=(img_width, img_height),\n",
    "    batch_size=batch_size,\n",
    "    class_mode='binary')\n"
   ]
  },
  {
   "cell_type": "markdown",
   "metadata": {
    "slideshow": {
     "slide_type": "slide"
    }
   },
   "source": [
    "## Training and Model Evaluation"
   ]
  },
  {
   "cell_type": "code",
   "execution_count": 20,
   "metadata": {
    "slideshow": {
     "slide_type": "slide"
    }
   },
   "outputs": [
    {
     "name": "stdout",
     "output_type": "stream",
     "text": [
      "Epoch 1/20\n",
      "125/125 [==============================] - 60s 481ms/step - loss: 0.5441 - acc: 0.7445 - val_loss: 0.5389 - val_acc: 0.7338\n",
      "Epoch 2/20\n",
      "125/125 [==============================] - 59s 473ms/step - loss: 0.5246 - acc: 0.7480 - val_loss: 0.5549 - val_acc: 0.7050\n",
      "Epoch 3/20\n",
      "125/125 [==============================] - 63s 504ms/step - loss: 0.5101 - acc: 0.7520 - val_loss: 0.5298 - val_acc: 0.7338\n",
      "Epoch 4/20\n",
      "125/125 [==============================] - 66s 530ms/step - loss: 0.5276 - acc: 0.7470 - val_loss: 0.5853 - val_acc: 0.6963\n",
      "Epoch 5/20\n",
      "125/125 [==============================] - 78s 625ms/step - loss: 0.5004 - acc: 0.7670 - val_loss: 0.5165 - val_acc: 0.7412\n",
      "Epoch 6/20\n",
      "125/125 [==============================] - 73s 586ms/step - loss: 0.4802 - acc: 0.7775 - val_loss: 0.4903 - val_acc: 0.7738\n",
      "Epoch 7/20\n",
      "125/125 [==============================] - 58s 464ms/step - loss: 0.4874 - acc: 0.7745 - val_loss: 0.5222 - val_acc: 0.7388\n",
      "Epoch 8/20\n",
      "125/125 [==============================] - 57s 457ms/step - loss: 0.4566 - acc: 0.7930 - val_loss: 0.5062 - val_acc: 0.7375\n",
      "Epoch 9/20\n",
      "125/125 [==============================] - 58s 466ms/step - loss: 0.4699 - acc: 0.7830 - val_loss: 0.5398 - val_acc: 0.7488\n",
      "Epoch 10/20\n",
      "125/125 [==============================] - 54s 436ms/step - loss: 0.4629 - acc: 0.7935 - val_loss: 0.5088 - val_acc: 0.7500\n",
      "Epoch 11/20\n",
      "125/125 [==============================] - 57s 453ms/step - loss: 0.4554 - acc: 0.8035 - val_loss: 0.4897 - val_acc: 0.7750\n",
      "Epoch 12/20\n",
      "125/125 [==============================] - 61s 486ms/step - loss: 0.4403 - acc: 0.8020 - val_loss: 0.5087 - val_acc: 0.7612\n",
      "Epoch 13/20\n",
      "125/125 [==============================] - 58s 465ms/step - loss: 0.4419 - acc: 0.8150 - val_loss: 0.5012 - val_acc: 0.7562\n",
      "Epoch 14/20\n",
      "125/125 [==============================] - 62s 492ms/step - loss: 0.4186 - acc: 0.8155 - val_loss: 0.5289 - val_acc: 0.7575\n",
      "Epoch 15/20\n",
      "125/125 [==============================] - 59s 471ms/step - loss: 0.4191 - acc: 0.8145 - val_loss: 0.5181 - val_acc: 0.7500\n",
      "Epoch 16/20\n",
      "125/125 [==============================] - 60s 478ms/step - loss: 0.4240 - acc: 0.8145 - val_loss: 0.4820 - val_acc: 0.7788\n",
      "Epoch 17/20\n",
      "125/125 [==============================] - 59s 471ms/step - loss: 0.4186 - acc: 0.8150 - val_loss: 0.5118 - val_acc: 0.7837\n",
      "Epoch 18/20\n",
      "125/125 [==============================] - 55s 443ms/step - loss: 0.4174 - acc: 0.8215 - val_loss: 0.4777 - val_acc: 0.7662\n",
      "Epoch 19/20\n",
      "125/125 [==============================] - 55s 438ms/step - loss: 0.4052 - acc: 0.8210 - val_loss: 0.5304 - val_acc: 0.7963\n",
      "Epoch 20/20\n",
      "125/125 [==============================] - 56s 445ms/step - loss: 0.3930 - acc: 0.8350 - val_loss: 0.5298 - val_acc: 0.7562\n"
     ]
    }
   ],
   "source": [
    "\n",
    "history = model.fit_generator(\n",
    "    train_generator,\n",
    "    steps_per_epoch=nb_train_samples // batch_size,\n",
    "    epochs=20,\n",
    "    validation_data=validation_generator,\n",
    "    validation_steps=nb_validation_samples // batch_size)\n",
    "\n",
    "model.save_weights('first_try.h5')"
   ]
  },
  {
   "cell_type": "code",
   "execution_count": 22,
   "metadata": {
    "slideshow": {
     "slide_type": "slide"
    }
   },
   "outputs": [
    {
     "data": {
      "image/png": "[encoded data removed]",
      "text/plain": [
       "<Figure size 432x288 with 1 Axes>"
      ]
     },
     "metadata": {
      "needs_background": "light"
     },
     "output_type": "display_data"
    }
   ],
   "source": [
    "import matplotlib.pyplot as plt\n",
    "\n",
    "plt.plot(history.history['acc'], label='train')\n",
    "plt.plot(history.history['val_acc'], label = 'validation')\n",
    "plt.title('model accuracy')\n",
    "plt.xlabel('epoch')\n",
    "plt.ylabel('loss')\n",
    "plt.legend(loc='upper left')\n",
    "plt.show()\n"
   ]
  },
  {
   "cell_type": "markdown",
   "metadata": {
    "slideshow": {
     "slide_type": "slide"
    }
   },
   "source": [
    "## Fine-Tuning a Network"
   ]
  },
  {
   "cell_type": "markdown",
   "metadata": {
    "slideshow": {
     "slide_type": "slide"
    }
   },
   "source": [
    "### Training the FC layers"
   ]
  },
  {
   "cell_type": "code",
   "execution_count": 70,
   "metadata": {
    "slideshow": {
     "slide_type": "slide"
    }
   },
   "outputs": [
    {
     "name": "stdout",
     "output_type": "stream",
     "text": [
      "Found 2000 images belonging to 2 classes.\n"
     ]
    }
   ],
   "source": [
    "import keras\n",
    "from keras import applications\n",
    "from keras import models\n",
    "from keras.layers import Dropout, Flatten, Dense\n",
    "import numpy as np\n",
    "\n",
    "batch_size = 16\n",
    "\n",
    "# Load the VGG16 network with the pretrained imagenet weights. Don't include the fully connected layers.\n",
    "\n",
    "model = applications.VGG16(include_top=False, weights='imagenet') \n",
    "\n",
    "# Generate feature map for training data\n",
    "generator = datagen.flow_from_directory(\n",
    "        'data/train',\n",
    "        target_size=(150, 150),\n",
    "        batch_size=batch_size,\n",
    "        class_mode=None,  \n",
    "        shuffle=False)    \n",
    "        \n",
    "bottleneck_features_train = model.predict_generator(generator, 2000//batch_size)\n",
    "\n",
    "# save the output as a Numpy array\n",
    "np.save('bottleneck_features_train.npy', bottleneck_features_train)"
   ]
  },
  {
   "cell_type": "code",
   "execution_count": 71,
   "metadata": {
    "slideshow": {
     "slide_type": "slide"
    }
   },
   "outputs": [
    {
     "name": "stdout",
     "output_type": "stream",
     "text": [
      "Found 800 images belonging to 2 classes.\n"
     ]
    }
   ],
   "source": [
    "# Generate feature map for validation data\n",
    "generator = datagen.flow_from_directory(\n",
    "        'data/validation',\n",
    "        target_size=(150, 150),\n",
    "        batch_size=batch_size,\n",
    "        class_mode=None,\n",
    "        shuffle=False)\n",
    "bottleneck_features_validation = model.predict_generator(generator, 800//batch_size)\n",
    "np.save('bottleneck_features_validation.npy', bottleneck_features_validation)"
   ]
  },
  {
   "cell_type": "code",
   "execution_count": 29,
   "metadata": {
    "slideshow": {
     "slide_type": "slide"
    }
   },
   "outputs": [
    {
     "name": "stdout",
     "output_type": "stream",
     "text": [
      "Found 2000 images belonging to 2 classes.\n",
      "Found 800 images belonging to 2 classes.\n",
      "Train on 2000 samples, validate on 800 samples\n",
      "Epoch 1/50\n",
      "2000/2000 [==============================] - 3s 1ms/step - loss: 4.3805 - acc: 0.7085 - val_loss: 3.3741 - val_acc: 0.7800\n",
      "Epoch 2/50\n",
      "2000/2000 [==============================] - 2s 1ms/step - loss: 3.2302 - acc: 0.7900 - val_loss: 4.0267 - val_acc: 0.7425\n",
      "Epoch 3/50\n",
      "2000/2000 [==============================] - 2s 1ms/step - loss: 3.0858 - acc: 0.8015 - val_loss: 3.2622 - val_acc: 0.7887\n",
      "Epoch 4/50\n",
      "2000/2000 [==============================] - 2s 1ms/step - loss: 2.5993 - acc: 0.8285 - val_loss: 2.5421 - val_acc: 0.8363\n",
      "Epoch 5/50\n",
      "2000/2000 [==============================] - 2s 1ms/step - loss: 2.3333 - acc: 0.8505 - val_loss: 2.4245 - val_acc: 0.8450\n",
      "Epoch 6/50\n",
      "2000/2000 [==============================] - 2s 1ms/step - loss: 2.5613 - acc: 0.8345 - val_loss: 2.9007 - val_acc: 0.8137\n",
      "Epoch 7/50\n",
      "2000/2000 [==============================] - 2s 1ms/step - loss: 2.3546 - acc: 0.8470 - val_loss: 2.1224 - val_acc: 0.8612\n",
      "Epoch 8/50\n",
      "2000/2000 [==============================] - 2s 1ms/step - loss: 2.3621 - acc: 0.8470 - val_loss: 2.8391 - val_acc: 0.8213\n",
      "Epoch 9/50\n",
      "2000/2000 [==============================] - 2s 1ms/step - loss: 2.1228 - acc: 0.8655 - val_loss: 2.1627 - val_acc: 0.8588\n",
      "Epoch 10/50\n",
      "2000/2000 [==============================] - 2s 1ms/step - loss: 1.8909 - acc: 0.8780 - val_loss: 2.3186 - val_acc: 0.8512\n",
      "Epoch 11/50\n",
      "2000/2000 [==============================] - 3s 1ms/step - loss: 1.9503 - acc: 0.8750 - val_loss: 2.2994 - val_acc: 0.8538\n",
      "Epoch 12/50\n",
      "2000/2000 [==============================] - 2s 1ms/step - loss: 1.9116 - acc: 0.8755 - val_loss: 2.1509 - val_acc: 0.8638\n",
      "Epoch 13/50\n",
      "2000/2000 [==============================] - 2s 1ms/step - loss: 1.9226 - acc: 0.8770 - val_loss: 2.6823 - val_acc: 0.8263\n",
      "Epoch 14/50\n",
      "2000/2000 [==============================] - 2s 996us/step - loss: 2.0291 - acc: 0.8705 - val_loss: 2.2565 - val_acc: 0.8550\n",
      "Epoch 15/50\n",
      "2000/2000 [==============================] - 2s 1ms/step - loss: 1.8940 - acc: 0.8770 - val_loss: 2.3864 - val_acc: 0.8488\n",
      "Epoch 16/50\n",
      "2000/2000 [==============================] - 2s 1ms/step - loss: 1.9677 - acc: 0.8735 - val_loss: 2.5992 - val_acc: 0.8350\n",
      "Epoch 17/50\n",
      "2000/2000 [==============================] - 2s 1ms/step - loss: 1.7480 - acc: 0.8875 - val_loss: 2.5752 - val_acc: 0.8350\n",
      "Epoch 18/50\n",
      "2000/2000 [==============================] - 2s 1ms/step - loss: 1.7352 - acc: 0.8895 - val_loss: 2.3320 - val_acc: 0.8538\n",
      "Epoch 19/50\n",
      "2000/2000 [==============================] - 2s 1ms/step - loss: 2.1710 - acc: 0.8635 - val_loss: 2.4331 - val_acc: 0.8450\n",
      "Epoch 20/50\n",
      "2000/2000 [==============================] - 2s 1ms/step - loss: 1.7139 - acc: 0.8900 - val_loss: 2.3884 - val_acc: 0.8500\n",
      "Epoch 21/50\n",
      "2000/2000 [==============================] - 2s 1ms/step - loss: 1.4873 - acc: 0.9050 - val_loss: 2.2380 - val_acc: 0.8588\n",
      "Epoch 22/50\n",
      "2000/2000 [==============================] - 2s 1ms/step - loss: 1.5637 - acc: 0.9000 - val_loss: 2.8076 - val_acc: 0.8213\n",
      "Epoch 23/50\n",
      "2000/2000 [==============================] - 2s 1ms/step - loss: 1.6297 - acc: 0.8960 - val_loss: 2.2874 - val_acc: 0.8538\n",
      "Epoch 24/50\n",
      "2000/2000 [==============================] - 2s 1ms/step - loss: 1.5224 - acc: 0.9035 - val_loss: 2.1758 - val_acc: 0.8612\n",
      "Epoch 25/50\n",
      "2000/2000 [==============================] - 2s 1ms/step - loss: 1.3488 - acc: 0.9140 - val_loss: 2.2252 - val_acc: 0.8562\n",
      "Epoch 26/50\n",
      "2000/2000 [==============================] - 2s 1ms/step - loss: 1.4800 - acc: 0.9050 - val_loss: 2.9729 - val_acc: 0.8113\n",
      "Epoch 27/50\n",
      "2000/2000 [==============================] - 2s 1ms/step - loss: 1.5482 - acc: 0.9005 - val_loss: 2.0235 - val_acc: 0.8725\n",
      "Epoch 28/50\n",
      "2000/2000 [==============================] - 2s 1ms/step - loss: 1.6750 - acc: 0.8920 - val_loss: 2.3681 - val_acc: 0.8500\n",
      "Epoch 29/50\n",
      "2000/2000 [==============================] - 2s 1ms/step - loss: 1.3638 - acc: 0.9135 - val_loss: 1.9663 - val_acc: 0.8712\n",
      "Epoch 30/50\n",
      "2000/2000 [==============================] - 2s 1ms/step - loss: 1.2991 - acc: 0.9165 - val_loss: 1.9776 - val_acc: 0.8712\n",
      "Epoch 31/50\n",
      "2000/2000 [==============================] - 2s 1ms/step - loss: 1.3677 - acc: 0.9115 - val_loss: 2.0984 - val_acc: 0.8638\n",
      "Epoch 32/50\n",
      "2000/2000 [==============================] - 2s 1ms/step - loss: 1.3789 - acc: 0.9120 - val_loss: 2.2339 - val_acc: 0.8575\n",
      "Epoch 33/50\n",
      "2000/2000 [==============================] - 2s 1ms/step - loss: 1.3702 - acc: 0.9115 - val_loss: 2.4015 - val_acc: 0.8438\n",
      "Epoch 34/50\n",
      "2000/2000 [==============================] - 2s 1ms/step - loss: 1.2289 - acc: 0.9200 - val_loss: 2.1748 - val_acc: 0.8600\n",
      "Epoch 35/50\n",
      "2000/2000 [==============================] - 2s 1ms/step - loss: 1.2232 - acc: 0.9215 - val_loss: 2.1949 - val_acc: 0.8612\n",
      "Epoch 36/50\n",
      "2000/2000 [==============================] - 2s 1ms/step - loss: 1.1475 - acc: 0.9280 - val_loss: 2.2724 - val_acc: 0.8562\n",
      "Epoch 37/50\n",
      "2000/2000 [==============================] - 2s 1ms/step - loss: 1.2516 - acc: 0.9200 - val_loss: 2.3485 - val_acc: 0.8512\n",
      "Epoch 38/50\n",
      "2000/2000 [==============================] - 2s 1ms/step - loss: 1.2481 - acc: 0.9205 - val_loss: 2.0901 - val_acc: 0.8625\n",
      "Epoch 39/50\n",
      "2000/2000 [==============================] - 2s 1ms/step - loss: 1.1258 - acc: 0.9280 - val_loss: 2.0915 - val_acc: 0.8650\n",
      "Epoch 40/50\n",
      "2000/2000 [==============================] - 2s 1ms/step - loss: 1.1711 - acc: 0.9215 - val_loss: 2.0505 - val_acc: 0.8675\n",
      "Epoch 41/50\n",
      "2000/2000 [==============================] - 2s 1ms/step - loss: 1.0021 - acc: 0.9370 - val_loss: 2.3597 - val_acc: 0.8488\n",
      "Epoch 42/50\n",
      "2000/2000 [==============================] - 2s 1ms/step - loss: 1.1526 - acc: 0.9270 - val_loss: 2.2596 - val_acc: 0.8562\n",
      "Epoch 43/50\n",
      "2000/2000 [==============================] - 2s 1ms/step - loss: 1.0264 - acc: 0.9345 - val_loss: 2.1819 - val_acc: 0.8625\n",
      "Epoch 44/50\n",
      "2000/2000 [==============================] - 2s 1ms/step - loss: 1.0310 - acc: 0.9345 - val_loss: 2.0908 - val_acc: 0.8650\n",
      "Epoch 45/50\n",
      "2000/2000 [==============================] - 2s 1ms/step - loss: 0.9301 - acc: 0.9410 - val_loss: 2.1009 - val_acc: 0.8650\n",
      "Epoch 46/50\n",
      "2000/2000 [==============================] - 2s 1ms/step - loss: 0.9304 - acc: 0.9405 - val_loss: 2.1144 - val_acc: 0.8650\n",
      "Epoch 47/50\n",
      "2000/2000 [==============================] - 2s 1ms/step - loss: 1.0547 - acc: 0.9325 - val_loss: 2.0826 - val_acc: 0.8688\n",
      "Epoch 48/50\n",
      "2000/2000 [==============================] - 2s 1ms/step - loss: 0.9812 - acc: 0.9385 - val_loss: 2.1951 - val_acc: 0.8575\n",
      "Epoch 49/50\n",
      "2000/2000 [==============================] - 2s 1ms/step - loss: 0.9199 - acc: 0.9410 - val_loss: 2.0489 - val_acc: 0.8675\n",
      "Epoch 50/50\n",
      "2000/2000 [==============================] - 2s 1ms/step - loss: 0.9322 - acc: 0.9410 - val_loss: 2.1329 - val_acc: 0.8662\n"
     ]
    }
   ],
   "source": [
    "from keras.utils.np_utils import to_categorical\n",
    "datagen_top = ImageDataGenerator(rescale=1./255)  \n",
    "generator_top = datagen_top.flow_from_directory(  \n",
    "         train_data_dir,  \n",
    "         target_size=(img_width, img_height),  \n",
    "         batch_size=batch_size,  \n",
    "         class_mode='categorical',  \n",
    "         shuffle=False)  \n",
    "\n",
    "num_classes = len(generator_top.class_indices)  \n",
    "   \n",
    "# load the bottleneck features saved earlier  \n",
    "train_data = np.load('bottleneck_features_train.npy')  \n",
    "  \n",
    "# get the class lebels for the training data, in the original order  \n",
    "train_labels = generator_top.classes  \n",
    "\n",
    "generator_top = datagen_top.flow_from_directory(  \n",
    "         validation_data_dir,  \n",
    "         target_size=(img_width, img_height),  \n",
    "         batch_size=batch_size,  \n",
    "         class_mode=None,  \n",
    "         shuffle=False)  \n",
    "   \n",
    "validation_data = np.load('bottleneck_features_validation.npy')  \n",
    "   \n",
    "validation_labels = generator_top.classes  \n",
    "    \n",
    "model = Sequential()\n",
    "model.add(Flatten(input_shape=train_data.shape[1:]))\n",
    "model.add(Dense(256, activation='relu'))\n",
    "model.add(Dropout(0.5))\n",
    "model.add(Dense(1, activation='sigmoid'))\n",
    "\n",
    "model.compile(optimizer='rmsprop',\n",
    "              loss='binary_crossentropy',\n",
    "              metrics=['accuracy'])\n",
    "\n",
    "history = model.fit(train_data, train_labels,\n",
    "          epochs=50,\n",
    "          batch_size=batch_size,\n",
    "          validation_data=(validation_data, validation_labels))\n",
    "model.save_weights('bottleneck_fc_model.h5')"
   ]
  },
  {
   "cell_type": "code",
   "execution_count": 30,
   "metadata": {
    "slideshow": {
     "slide_type": "slide"
    }
   },
   "outputs": [
    {
     "data": {
      "image/png": "[encoded data removed]",
      "text/plain": [
       "<Figure size 432x288 with 1 Axes>"
      ]
     },
     "metadata": {
      "needs_background": "light"
     },
     "output_type": "display_data"
    }
   ],
   "source": [
    "import matplotlib.pyplot as plt\n",
    "\n",
    "plt.plot(history.history['acc'], label='train')\n",
    "plt.plot(history.history['val_acc'], label = 'validation')\n",
    "plt.title('model accuracy')\n",
    "plt.xlabel('epoch')\n",
    "plt.ylabel('loss')\n",
    "plt.legend(loc='upper left')\n",
    "plt.show()"
   ]
  },
  {
   "cell_type": "code",
   "execution_count": 43,
   "metadata": {
    "slideshow": {
     "slide_type": "slide"
    }
   },
   "outputs": [
    {
     "name": "stdout",
     "output_type": "stream",
     "text": [
      "Confusion matrix, without normalization\n",
      "[[370  30]\n",
      " [ 77 323]]\n"
     ]
    },
    {
     "data": {
      "image/png": "[encoded data removed]",
      "text/plain": [
       "<Figure size 432x288 with 2 Axes>"
      ]
     },
     "metadata": {
      "needs_background": "light"
     },
     "output_type": "display_data"
    },
    {
     "name": "stdout",
     "output_type": "stream",
     "text": [
      "Normalized confusion matrix\n",
      "[[0.925  0.075 ]\n",
      " [0.1925 0.8075]]\n"
     ]
    },
    {
     "data": {
      "image/png": "[encoded data removed]",
      "text/plain": [
       "<Figure size 432x288 with 2 Axes>"
      ]
     },
     "metadata": {
      "needs_background": "light"
     },
     "output_type": "display_data"
    }
   ],
   "source": [
    "from sklearn.metrics import confusion_matrix\n",
    "import itertools\n",
    "\n",
    "\n",
    "def plot_confusion_matrix(cm, classes,\n",
    "                          normalize=False,\n",
    "                          title='Confusion matrix',\n",
    "                          cmap=plt.cm.Blues):\n",
    "    \"\"\"\n",
    "    This function prints and plots the confusion matrix.\n",
    "    Normalization can be applied by setting `normalize=True`.\n",
    "    \"\"\"\n",
    "    if normalize:\n",
    "        cm = cm.astype('float') / cm.sum(axis=1)[:, np.newaxis]\n",
    "        print(\"Normalized confusion matrix\")\n",
    "    else:\n",
    "        print('Confusion matrix, without normalization')\n",
    "\n",
    "    print(cm)\n",
    "\n",
    "    plt.imshow(cm, interpolation='nearest', cmap=cmap)\n",
    "    plt.title(title)\n",
    "    plt.colorbar()\n",
    "    tick_marks = np.arange(len(classes))\n",
    "    plt.xticks(tick_marks, classes, rotation=45)\n",
    "    plt.yticks(tick_marks, classes)\n",
    "\n",
    "    fmt = '.2f' if normalize else 'd'\n",
    "    thresh = cm.max() / 2.\n",
    "    for i, j in itertools.product(range(cm.shape[0]), range(cm.shape[1])):\n",
    "        plt.text(j, i, format(cm[i, j], fmt),\n",
    "                 horizontalalignment=\"center\",\n",
    "                 color=\"white\" if cm[i, j] > thresh else \"black\")\n",
    "\n",
    "    plt.tight_layout()\n",
    "    plt.ylabel('True label')\n",
    "    plt.xlabel('Predicted label')\n",
    "\n",
    "    \n",
    "y_prob=model.predict(validation_data)\n",
    "y_pred = np.round(y_prob[:,0])\n",
    "cnf_matrix=confusion_matrix(validation_labels, y_pred)\n",
    "class_names = ['dog','cat']\n",
    "plot_confusion_matrix(cnf_matrix, classes=class_names,\n",
    "                      title='Confusion matrix, without normalization')\n",
    "plt.show()\n",
    "plot_confusion_matrix(cnf_matrix, classes=class_names, normalize=True,\n",
    "                      title='Normalized confusion matrix')\n",
    "plt.show()"
   ]
  },
  {
   "cell_type": "markdown",
   "metadata": {
    "slideshow": {
     "slide_type": "slide"
    }
   },
   "source": [
    "### Fine tuning the convolution layers"
   ]
  },
  {
   "cell_type": "code",
   "execution_count": 65,
   "metadata": {
    "slideshow": {
     "slide_type": "slide"
    }
   },
   "outputs": [
    {
     "name": "stdout",
     "output_type": "stream",
     "text": [
      "model compiled\n",
      "_________________________________________________________________\n",
      "Layer (type)                 Output Shape              Param #   \n",
      "=================================================================\n",
      "input_11 (InputLayer)        (None, 150, 150, 3)       0         \n",
      "_________________________________________________________________\n",
      "block1_conv1 (Conv2D)        (None, 150, 150, 64)      1792      \n",
      "_________________________________________________________________\n",
      "block1_conv2 (Conv2D)        (None, 150, 150, 64)      36928     \n",
      "_________________________________________________________________\n",
      "block1_pool (MaxPooling2D)   (None, 75, 75, 64)        0         \n",
      "_________________________________________________________________\n",
      "block2_conv1 (Conv2D)        (None, 75, 75, 128)       73856     \n",
      "_________________________________________________________________\n",
      "block2_conv2 (Conv2D)        (None, 75, 75, 128)       147584    \n",
      "_________________________________________________________________\n",
      "block2_pool (MaxPooling2D)   (None, 37, 37, 128)       0         \n",
      "_________________________________________________________________\n",
      "block3_conv1 (Conv2D)        (None, 37, 37, 256)       295168    \n",
      "_________________________________________________________________\n",
      "block3_conv2 (Conv2D)        (None, 37, 37, 256)       590080    \n",
      "_________________________________________________________________\n",
      "block3_conv3 (Conv2D)        (None, 37, 37, 256)       590080    \n",
      "_________________________________________________________________\n",
      "block3_pool (MaxPooling2D)   (None, 18, 18, 256)       0         \n",
      "_________________________________________________________________\n",
      "block4_conv1 (Conv2D)        (None, 18, 18, 512)       1180160   \n",
      "_________________________________________________________________\n",
      "block4_conv2 (Conv2D)        (None, 18, 18, 512)       2359808   \n",
      "_________________________________________________________________\n",
      "block4_conv3 (Conv2D)        (None, 18, 18, 512)       2359808   \n",
      "_________________________________________________________________\n",
      "block4_pool (MaxPooling2D)   (None, 9, 9, 512)         0         \n",
      "_________________________________________________________________\n",
      "block5_conv1 (Conv2D)        (None, 9, 9, 512)         2359808   \n",
      "_________________________________________________________________\n",
      "block5_conv2 (Conv2D)        (None, 9, 9, 512)         2359808   \n",
      "_________________________________________________________________\n",
      "block5_conv3 (Conv2D)        (None, 9, 9, 512)         2359808   \n",
      "_________________________________________________________________\n",
      "block5_pool (MaxPooling2D)   (None, 4, 4, 512)         0         \n",
      "_________________________________________________________________\n",
      "sequential_20 (Sequential)   (None, 1)                 2097665   \n",
      "=================================================================\n",
      "Total params: 16,812,353\n",
      "Trainable params: 4,457,473\n",
      "Non-trainable params: 12,354,880\n",
      "_________________________________________________________________\n"
     ]
    }
   ],
   "source": [
    "# build model\n",
    "base_model = applications.VGG16(input_shape=input_shape, include_top=False, weights='imagenet')\n",
    "\n",
    "# Create a model\n",
    "fullyconnected_model = Sequential()\n",
    "fullyconnected_model.add(Flatten(input_shape=base_model.output_shape[1:]))\n",
    "fullyconnected_model.add(Dense(256, activation='relu'))\n",
    "fullyconnected_model.add(Dropout(0.5))\n",
    "fullyconnected_model.add(Dense(1, activation='sigmoid'))\n",
    "\n",
    "fullyconnected_model.load_weights('bottleneck_fc_model.h5')\n",
    "\n",
    "model = models.Model(inputs= base_model.input, outputs= fullyconnected_model(base_model.output))\n",
    "\n",
    "for layer in model.layers[:-3]:\n",
    "    layer.trainable = False\n",
    "\n",
    "adam=keras.optimizers.Adam(lr=0.0001)\n",
    "model.compile(optimizer=adam,\n",
    "              loss='binary_crossentropy',\n",
    "              metrics=['accuracy'])\n",
    "\n",
    "print('model compiled')\n",
    "\n",
    "model.summary()"
   ]
  },
  {
   "cell_type": "code",
   "execution_count": 66,
   "metadata": {
    "slideshow": {
     "slide_type": "slide"
    }
   },
   "outputs": [
    {
     "name": "stdout",
     "output_type": "stream",
     "text": [
      "Found 2000 images belonging to 2 classes.\n",
      "Found 800 images belonging to 2 classes.\n",
      "Epoch 1/20\n",
      "125/125 [==============================] - 530s 4s/step - loss: 1.3669 - acc: 0.8080 - val_loss: 0.6868 - val_acc: 0.8588\n",
      "Epoch 2/20\n",
      "125/125 [==============================] - 517s 4s/step - loss: 0.5102 - acc: 0.8785 - val_loss: 0.6168 - val_acc: 0.8562\n",
      "Epoch 3/20\n",
      "125/125 [==============================] - 529s 4s/step - loss: 0.2945 - acc: 0.9070 - val_loss: 0.3120 - val_acc: 0.8975\n",
      "Epoch 4/20\n",
      "125/125 [==============================] - 525s 4s/step - loss: 0.1542 - acc: 0.9425 - val_loss: 0.3250 - val_acc: 0.8900\n",
      "Epoch 5/20\n",
      "125/125 [==============================] - 572s 5s/step - loss: 0.1119 - acc: 0.9560 - val_loss: 0.3398 - val_acc: 0.8925\n",
      "Epoch 6/20\n",
      "125/125 [==============================] - 526s 4s/step - loss: 0.1018 - acc: 0.9625 - val_loss: 0.3375 - val_acc: 0.8875\n",
      "Epoch 7/20\n",
      "125/125 [==============================] - 3234s 26s/step - loss: 0.0855 - acc: 0.9675 - val_loss: 0.2990 - val_acc: 0.9062\n",
      "Epoch 8/20\n",
      "125/125 [==============================] - 1018s 8s/step - loss: 0.0741 - acc: 0.9725 - val_loss: 0.3123 - val_acc: 0.9075\n",
      "Epoch 9/20\n",
      "125/125 [==============================] - 1005s 8s/step - loss: 0.0653 - acc: 0.9745 - val_loss: 0.3279 - val_acc: 0.8988\n",
      "Epoch 10/20\n",
      "125/125 [==============================] - 682s 5s/step - loss: 0.0428 - acc: 0.9795 - val_loss: 0.3354 - val_acc: 0.9125\n",
      "Epoch 11/20\n",
      "125/125 [==============================] - 1716s 14s/step - loss: 0.0458 - acc: 0.9850 - val_loss: 0.3592 - val_acc: 0.9113\n",
      "Epoch 12/20\n",
      "125/125 [==============================] - 51947s 416s/step - loss: 0.0415 - acc: 0.9855 - val_loss: 0.3907 - val_acc: 0.8950\n",
      "Epoch 13/20\n",
      "125/125 [==============================] - 532s 4s/step - loss: 0.0394 - acc: 0.9860 - val_loss: 0.5452 - val_acc: 0.8838\n",
      "Epoch 14/20\n",
      "125/125 [==============================] - 511s 4s/step - loss: 0.0507 - acc: 0.9815 - val_loss: 0.3416 - val_acc: 0.8950\n",
      "Epoch 15/20\n",
      "125/125 [==============================] - 529s 4s/step - loss: 0.0353 - acc: 0.9860 - val_loss: 0.5698 - val_acc: 0.8700\n",
      "Epoch 16/20\n",
      "125/125 [==============================] - 541s 4s/step - loss: 0.0333 - acc: 0.9890 - val_loss: 0.3464 - val_acc: 0.9163\n",
      "Epoch 17/20\n",
      "125/125 [==============================] - 523s 4s/step - loss: 0.0325 - acc: 0.9875 - val_loss: 0.4042 - val_acc: 0.9050\n",
      "Epoch 18/20\n",
      "125/125 [==============================] - 511s 4s/step - loss: 0.0308 - acc: 0.9880 - val_loss: 0.4158 - val_acc: 0.9087\n",
      "Epoch 19/20\n",
      "125/125 [==============================] - 493s 4s/step - loss: 0.0234 - acc: 0.9900 - val_loss: 0.3691 - val_acc: 0.9038\n",
      "Epoch 20/20\n",
      "125/125 [==============================] - 530s 4s/step - loss: 0.0302 - acc: 0.9880 - val_loss: 0.4653 - val_acc: 0.8938\n"
     ]
    }
   ],
   "source": [
    "batch_size = 16\n",
    "\n",
    "# prepare data augmentation configuration\n",
    "train_datagen = ImageDataGenerator(\n",
    "        rescale=1./255,\n",
    "        shear_range=0.2,\n",
    "        zoom_range=0.2,\n",
    "        horizontal_flip=True)\n",
    "\n",
    "validation_datagen = ImageDataGenerator(rescale=1./255)\n",
    "\n",
    "train_generator = train_datagen.flow_from_directory(\n",
    "        train_data_dir,\n",
    "        target_size=(img_height, img_width),\n",
    "        batch_size=batch_size,\n",
    "        class_mode='binary')\n",
    "\n",
    "validation_generator = validation_datagen.flow_from_directory(\n",
    "        validation_data_dir,\n",
    "        target_size=(img_height, img_width),\n",
    "        batch_size=batch_size,\n",
    "        class_mode='binary')\n",
    "\n",
    "# fine-tune the model\n",
    "history = model.fit_generator(\n",
    "        train_generator,\n",
    "        steps_per_epoch=nb_train_samples // batch_size,\n",
    "        epochs=20,\n",
    "        validation_data=validation_generator,\n",
    "        validation_steps=nb_validation_samples // batch_size)"
   ]
  },
  {
   "cell_type": "code",
   "execution_count": 67,
   "metadata": {
    "slideshow": {
     "slide_type": "slide"
    }
   },
   "outputs": [
    {
     "data": {
      "image/png": "[encoded data removed]",
      "text/plain": [
       "<Figure size 432x288 with 1 Axes>"
      ]
     },
     "metadata": {
      "needs_background": "light"
     },
     "output_type": "display_data"
    }
   ],
   "source": [
    "import matplotlib.pyplot as plt\n",
    "\n",
    "plt.plot(history.history['acc'], label='train')\n",
    "plt.plot(history.history['val_acc'], label = 'validation')\n",
    "plt.title('model accuracy')\n",
    "plt.xlabel('epoch')\n",
    "plt.ylabel('loss')\n",
    "plt.legend(loc='upper left')\n",
    "plt.show()"
   ]
  },
  {
   "cell_type": "markdown",
   "metadata": {
    "slideshow": {
     "slide_type": "skip"
    }
   },
   "source": [
    "## References\n",
    "\n",
    "\n",
    "[Keras tutorial](https://blog.keras.io/building-powerful-image-classification-models-using-very-little-data.html)\n",
    "\n",
    "[original data](http://www.robots.ox.ac.uk/~vgg/data/pets/)\n",
    "\n",
    "[Good Blog Post](https://towardsdatascience.com/applied-deep-learning-part-4-convolutional-neural-networks-584bc134c1e2)"
   ]
  },
  {
   "cell_type": "code",
   "execution_count": null,
   "metadata": {},
   "outputs": [],
   "source": []
  }
 ],
 "metadata": {
  "celltoolbar": "Slideshow",
  "kernelspec": {
   "display_name": "Python (tensorflow)",
   "language": "python",
   "name": "tensorflow"
  },
  "language_info": {
   "codemirror_mode": {
    "name": "ipython",
    "version": 3
   },
   "file_extension": ".py",
   "mimetype": "text/x-python",
   "name": "python",
   "nbconvert_exporter": "python",
   "pygments_lexer": "ipython3",
   "version": "3.6.6"
  }
 },
 "nbformat": 4,
 "nbformat_minor": 2
}
